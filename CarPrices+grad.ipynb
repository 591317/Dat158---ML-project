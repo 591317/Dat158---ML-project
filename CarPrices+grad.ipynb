{
 "cells": [
  {
   "cell_type": "code",
   "execution_count": 1,
   "id": "92cac7c3-4438-40cb-a0ce-c8e0c2023f41",
   "metadata": {},
   "outputs": [],
   "source": [
    "# IMPORTS\n",
    "\n",
    "import pandas as pd\n",
    "import seaborn as sns\n",
    "import numpy as np\n",
    "import matplotlib.pyplot as plt\n",
    "from sklearn.model_selection import train_test_split\n",
    "from sklearn.preprocessing import LabelEncoder\n",
    "from sklearn.impute import SimpleImputer"
   ]
  },
  {
   "cell_type": "code",
   "execution_count": 2,
   "id": "fcfc8217-7d09-497b-a5c4-3d133d5cebe5",
   "metadata": {},
   "outputs": [],
   "source": [
    "# IMPORT DATA\n",
    "\n",
    "train_data = pd.read_csv('train.csv')"
   ]
  },
  {
   "cell_type": "code",
   "execution_count": 3,
   "id": "286c01df-1a58-46a0-860f-db0210e1d1f4",
   "metadata": {},
   "outputs": [],
   "source": [
    "train_data.drop(columns=['id'], inplace=True)"
   ]
  },
  {
   "cell_type": "code",
   "execution_count": 4,
   "id": "4da85852-db84-4cd8-b8e4-a0ca9c4f7485",
   "metadata": {},
   "outputs": [],
   "source": [
    "train_data = train_data[train_data.price < 300000]\n",
    "train_data = train_data[train_data.model_year > 2000]"
   ]
  },
  {
   "cell_type": "code",
   "execution_count": 5,
   "id": "de41e1e5-00f3-4f20-9ab9-670894fc731c",
   "metadata": {},
   "outputs": [],
   "source": [
    "#FIX COLORS"
   ]
  },
  {
   "cell_type": "code",
   "execution_count": 6,
   "id": "76ea3653-e0c3-463c-9737-f5ddea38a689",
   "metadata": {},
   "outputs": [],
   "source": [
    "# EXT_COL"
   ]
  },
  {
   "cell_type": "code",
   "execution_count": 7,
   "id": "61333b62-6ff8-401d-b528-6667b778edc3",
   "metadata": {},
   "outputs": [],
   "source": [
    "# Samle sammen farger maybe...\n",
    "\n",
    "\n",
    "\n",
    "train_data.ext_col = train_data.ext_col.astype(str).apply(lambda x: 'Red' if \n",
    "                                                                    'red' in x.lower() or\n",
    "                                                                    'ruby' in x.lower() or\n",
    "                                                                    'rosso' in x.lower() or\n",
    "                                                                    'maroon' in x.lower() else x)\n",
    "\n",
    "train_data.ext_col = train_data.ext_col.astype(str).apply(lambda x: 'Black' if \n",
    "                                                                    'black' in x.lower() or\n",
    "                                                                    'ebony' in x.lower() or\n",
    "                                                                    'obsidian' in x.lower() or\n",
    "                                                                    'noir' in x.lower() or\n",
    "                                                                    'nero' in x.lower() else x)\n",
    "\n",
    "train_data.ext_col = train_data.ext_col.astype(str).apply(lambda x: 'Blue' if \n",
    "                                                                    'blue' in x.lower() or\n",
    "                                                                    'blu' in x.lower() or\n",
    "                                                                    'sea' in x.lower() or\n",
    "                                                                    'sapphire' in x.lower() or\n",
    "                                                                    'night' in x.lower() or\n",
    "                                                                    'glacier' in x.lower() else x)\n",
    "\n",
    "train_data.ext_col = train_data.ext_col.astype(str).apply(lambda x: 'White' if \n",
    "                                                                    'white' in x.lower() or\n",
    "                                                                    'quartz' in x.lower() or\n",
    "                                                                    'rift' in x.lower() or\n",
    "                                                                    'pearl' in x.lower() or\n",
    "                                                                    'bianco' in x.lower() or\n",
    "                                                                    'cloud' in x.lower() or\n",
    "                                                                    'lunar' in x.lower() or\n",
    "                                                                    'chalk' in x.lower() else x)\n",
    "\n",
    "train_data.ext_col = train_data.ext_col.astype(str).apply(lambda x: 'Gray' if \n",
    "                                                                    'gray' in x.lower() or\n",
    "                                                                    'grey' in x.lower() or \n",
    "                                                                    'granite' in x.lower() or \n",
    "                                                                    'ash' in x.lower() or\n",
    "                                                                    'slate' in x.lower() or\n",
    "                                                                    'graphite' in x.lower() else x)\n",
    "\n",
    "train_data.ext_col = train_data.ext_col.astype(str).apply(lambda x: 'Silver' if \n",
    "                                                                    'silver' in x.lower() or\n",
    "                                                                    'tungsten' in x.lower() or\n",
    "                                                                    'steel' in x.lower() or\n",
    "                                                                    'gun' in x.lower() else x)\n",
    "\n",
    "train_data.ext_col = train_data.ext_col.astype(str).apply(lambda x: 'Yellow' if \n",
    "                                                                    'yellow' in x.lower() else x)\n",
    "\n",
    "train_data.ext_col = train_data.ext_col.astype(str).apply(lambda x: 'Gold' if \n",
    "                                                                    'gold' in x.lower() else x)\n",
    "\n",
    "train_data.ext_col = train_data.ext_col.astype(str).apply(lambda x: 'Green' if \n",
    "                                                                    'green' in x.lower() or\n",
    "                                                                    'moss' in x.lower() else x)\n",
    "\n",
    "train_data.ext_col = train_data.ext_col.astype(str).apply(lambda x: 'Purple' if \n",
    "                                                                    'purple' in x.lower() or\n",
    "                                                                    'plum' in x.lower() else x)\n",
    "\n",
    "train_data.ext_col = train_data.ext_col.astype(str).apply(lambda x: 'Orange' if \n",
    "                                                                    'orange' in x.lower() or\n",
    "                                                                    'mango' in x.lower() or\n",
    "                                                                    'sunset' in x.lower() else x)\n",
    "\n",
    "train_data.ext_col = train_data.ext_col.astype(str).apply(lambda x: 'Beige' if \n",
    "                                                                    'beige' in x.lower() or\n",
    "                                                                    'sandstone' in x.lower() or\n",
    "                                                                    'brown' in x.lower() or\n",
    "                                                                    'bronze' in x.lower() or\n",
    "                                                                    'tan' in x.lower() else x)\n",
    "\n",
    "train_data.ext_col = train_data.ext_col.astype(str).apply(lambda x: 'Pink' if \n",
    "                                                                    'pink' in x.lower() else x)\n",
    "                                                 "
   ]
  },
  {
   "cell_type": "code",
   "execution_count": 8,
   "id": "33cde8cf-4b25-4836-8fc5-21b8f940be1c",
   "metadata": {},
   "outputs": [],
   "source": [
    "# INT_COL"
   ]
  },
  {
   "cell_type": "code",
   "execution_count": 9,
   "id": "bc4a53b4-06c4-4af9-9a84-18fe8f55d48e",
   "metadata": {},
   "outputs": [],
   "source": [
    "# Samle sammen farger maybe...\n",
    "\n",
    "\n",
    "\n",
    "train_data.int_col = train_data.int_col.astype(str).apply(lambda x: 'Red' if \n",
    "                                                                    'red' in x.lower() or\n",
    "                                                                    'ruby' in x.lower() or\n",
    "                                                                    'rosso' in x.lower() or\n",
    "                                                                    'maroon' in x.lower() else x)\n",
    "\n",
    "train_data.int_col = train_data.int_col.astype(str).apply(lambda x: 'Black' if \n",
    "                                                                    'black' in x.lower() or\n",
    "                                                                    'ebony' in x.lower() or\n",
    "                                                                    'obsidian' in x.lower() or\n",
    "                                                                    'noir' in x.lower() or\n",
    "                                                                    'nero' in x.lower() else x)\n",
    "\n",
    "train_data.int_col = train_data.int_col.astype(str).apply(lambda x: 'Blue' if \n",
    "                                                                    'blue' in x.lower() or\n",
    "                                                                    'blu' in x.lower() or\n",
    "                                                                    'sea' in x.lower() or\n",
    "                                                                    'sapphire' in x.lower() or\n",
    "                                                                    'night' in x.lower() or\n",
    "                                                                    'glacier' in x.lower() else x)\n",
    "\n",
    "train_data.int_col = train_data.int_col.astype(str).apply(lambda x: 'White' if \n",
    "                                                                    'white' in x.lower() or\n",
    "                                                                    'quartz' in x.lower() or\n",
    "                                                                    'rift' in x.lower() or\n",
    "                                                                    'pearl' in x.lower() or\n",
    "                                                                    'bianco' in x.lower() or\n",
    "                                                                    'cloud' in x.lower() or\n",
    "                                                                    'lunar' in x.lower() or\n",
    "                                                                    'chalk' in x.lower() else x)\n",
    "\n",
    "train_data.int_col = train_data.int_col.astype(str).apply(lambda x: 'Gray' if \n",
    "                                                                    'gray' in x.lower() or\n",
    "                                                                    'grey' in x.lower() or \n",
    "                                                                    'granite' in x.lower() or \n",
    "                                                                    'ash' in x.lower() or\n",
    "                                                                    'slate' in x.lower() or\n",
    "                                                                    'graphite' in x.lower() else x)\n",
    "\n",
    "train_data.int_col = train_data.int_col.astype(str).apply(lambda x: 'Silver' if \n",
    "                                                                    'silver' in x.lower() or\n",
    "                                                                    'tungsten' in x.lower() or\n",
    "                                                                    'steel' in x.lower() or\n",
    "                                                                    'gun' in x.lower() else x)\n",
    "\n",
    "train_data.int_col = train_data.int_col.astype(str).apply(lambda x: 'Yellow' if \n",
    "                                                                    'yellow' in x.lower() else x)\n",
    "\n",
    "train_data.int_col = train_data.int_col.astype(str).apply(lambda x: 'Gold' if \n",
    "                                                                    'gold' in x.lower() else x)\n",
    "\n",
    "train_data.int_col = train_data.int_col.astype(str).apply(lambda x: 'Green' if \n",
    "                                                                    'green' in x.lower() or\n",
    "                                                                    'moss' in x.lower() else x)\n",
    "\n",
    "train_data.int_col = train_data.int_col.astype(str).apply(lambda x: 'Purple' if \n",
    "                                                                    'purple' in x.lower() or\n",
    "                                                                    'plum' in x.lower() else x)\n",
    "\n",
    "train_data.int_col = train_data.int_col.astype(str).apply(lambda x: 'Orange' if \n",
    "                                                                    'orange' in x.lower() or\n",
    "                                                                    'mango' in x.lower() or\n",
    "                                                                    'sunset' in x.lower() else x)\n",
    "\n",
    "train_data.int_col = train_data.int_col.astype(str).apply(lambda x: 'Beige' if \n",
    "                                                                    'beige' in x.lower() or\n",
    "                                                                    'sandstone' in x.lower() or\n",
    "                                                                    'brown' in x.lower() or\n",
    "                                                                    'bronze' in x.lower() or\n",
    "                                                                    'tan' in x.lower() else x)\n",
    "\n",
    "train_data.int_col = train_data.int_col.astype(str).apply(lambda x: 'Pink' if \n",
    "                                                                    'pink' in x.lower() else x)\n",
    "                                                 "
   ]
  },
  {
   "cell_type": "code",
   "execution_count": 10,
   "id": "d441cc66-4363-4884-bd81-29c69689cd69",
   "metadata": {},
   "outputs": [],
   "source": [
    "# FIX FUEL_TYPE:"
   ]
  },
  {
   "cell_type": "code",
   "execution_count": 11,
   "id": "9e52e5ef-1ea3-4411-8041-d721a52cebf0",
   "metadata": {},
   "outputs": [],
   "source": [
    "train_data.fuel_type = train_data.fuel_type.astype(str).apply(lambda x: 'Hybrid' if \n",
    "                                                                    'Hybrid' in x else x)\n",
    "train_data.fuel_type = train_data.fuel_type.astype(str).apply(lambda x: 'E85' if \n",
    "                                                                    'E85' in x else x)\n",
    "train_data.fuel_type = train_data.fuel_type.astype(str).apply(lambda x: x if \n",
    "                                                                    'Gasoline' in x or                            \n",
    "                                                                    'Hybrid' in x or \n",
    "                                                                    'E85' in x or\n",
    "                                                                    'Diesel' in x else 'Other')"
   ]
  },
  {
   "cell_type": "code",
   "execution_count": 12,
   "id": "e891a22e-a28c-4c03-aead-5e6a5cf361f4",
   "metadata": {},
   "outputs": [],
   "source": [
    "train_data['fuel_type'] = train_data['fuel_type'].astype(str)"
   ]
  },
  {
   "cell_type": "code",
   "execution_count": 13,
   "id": "7c197748-661c-418f-866b-b6edd3ebf646",
   "metadata": {},
   "outputs": [],
   "source": [
    "# FIX ACCIDENT"
   ]
  },
  {
   "cell_type": "code",
   "execution_count": 14,
   "id": "3b3f308d-100c-4dce-afdd-b8a8a7d1e775",
   "metadata": {},
   "outputs": [],
   "source": [
    "train_data.accident = train_data.accident.astype(str).apply(lambda x: 1 if 'At least 1' in x else 0)"
   ]
  },
  {
   "cell_type": "code",
   "execution_count": 15,
   "id": "8ca12cea-150b-4cac-92ca-6914386edbe5",
   "metadata": {},
   "outputs": [],
   "source": [
    "# FIX CLEAN_TITLE"
   ]
  },
  {
   "cell_type": "code",
   "execution_count": 16,
   "id": "cf694637-2d39-46be-84e6-11cd0079cd72",
   "metadata": {},
   "outputs": [],
   "source": [
    "train_data.clean_title = train_data.clean_title.astype(str).apply(lambda x: 1 if 'Yes' in x else 0)"
   ]
  },
  {
   "cell_type": "code",
   "execution_count": 17,
   "id": "038d1700-f41a-4aef-a8fc-98ff9ec2b890",
   "metadata": {},
   "outputs": [],
   "source": [
    "# FIX TRANSMISSION"
   ]
  },
  {
   "cell_type": "code",
   "execution_count": null,
   "id": "f75fd5d7-8bd7-4b99-88ad-fe7c06a5ed1f",
   "metadata": {},
   "outputs": [],
   "source": []
  },
  {
   "cell_type": "code",
   "execution_count": 18,
   "id": "b03f64a4-a344-419c-8873-5f5335a88106",
   "metadata": {},
   "outputs": [],
   "source": [
    "train_data.transmission = train_data.transmission.astype(str).apply(lambda x: 'Automatic' if \n",
    "                                                                    'A/T' in x or \n",
    "                                                                    'Automatic' in x or \n",
    "                                                                    'AT' in x or\n",
    "                                                                    'Dual Shift' in x else x)\n",
    "\n",
    "train_data.transmission = train_data.transmission.astype(str).apply(lambda x: 'Manual' if \n",
    "                                                                    'M/T' in x or \n",
    "                                                                    'Manual' in x or \n",
    "                                                                    'Mt' in x else x)\n",
    "\n",
    "train_data.transmission = train_data.transmission.astype(str).apply(lambda x: x if \n",
    "                                                                    'Automatic' in x or \n",
    "                                                                    'Manual' in x else 'Other')"
   ]
  },
  {
   "cell_type": "code",
   "execution_count": null,
   "id": "6b108334-4ab1-4922-8c8d-e48ef4e3365d",
   "metadata": {},
   "outputs": [],
   "source": []
  },
  {
   "cell_type": "code",
   "execution_count": null,
   "id": "17cdddc4-fa73-41b7-92db-00f51b3d3fc1",
   "metadata": {},
   "outputs": [],
   "source": []
  },
  {
   "cell_type": "code",
   "execution_count": 19,
   "id": "81ef12ae-a464-47c3-9e2e-e527346a3f73",
   "metadata": {},
   "outputs": [],
   "source": [
    "# lagrer datasettet til bruk i gradio\n",
    "\n",
    "gr_data = train_data.copy()"
   ]
  },
  {
   "cell_type": "code",
   "execution_count": null,
   "id": "97b66a2e-accd-4aa6-8b63-fd8aa8d31136",
   "metadata": {},
   "outputs": [],
   "source": []
  },
  {
   "cell_type": "code",
   "execution_count": 20,
   "id": "4dbe8e1c-7aa9-41f9-86b4-4034fbe5bd61",
   "metadata": {},
   "outputs": [],
   "source": [
    "# HENTER UT INFO FRA ENGINE"
   ]
  },
  {
   "cell_type": "code",
   "execution_count": null,
   "id": "332504f6-2dd0-406d-88fc-af5882831b2b",
   "metadata": {},
   "outputs": [],
   "source": []
  },
  {
   "cell_type": "code",
   "execution_count": 21,
   "id": "d726086c-c5e7-4965-a725-c559802f1778",
   "metadata": {},
   "outputs": [],
   "source": [
    "import re\n",
    "\n",
    "# funksjonen for uthenting av motorverdier ved hjelp av regulære uttrykk er hentet fra kaggle:\n",
    "\n",
    "\n",
    "def extract_engine_info(engine_str):\n",
    "    horsepower_match = re.search(r'(\\d+\\.?\\d*)HP', engine_str)\n",
    "    engine_size_match = re.search(r'(\\d+\\.?\\d*)L', engine_str)\n",
    "    cylinders_match = re.search(r'(\\d+) Cylinder', engine_str)\n",
    "    \n",
    "    horsepower = float(horsepower_match.group(1)) if horsepower_match else None\n",
    "    engine_size = float(engine_size_match.group(1)) if engine_size_match else None\n",
    "    cylinders = int(cylinders_match.group(1)) if cylinders_match else None\n",
    "    \n",
    "    return horsepower, engine_size, cylinders\n",
    "\n",
    "# Apply the function to extract engine features\n",
    "train_data[['horsepower', 'engine_size', 'cylinders']] = train_data['engine'].apply(lambda x: pd.Series(extract_engine_info(x)))\n",
    "\n",
    "train_data.drop(columns=['engine'], inplace=True)"
   ]
  },
  {
   "cell_type": "code",
   "execution_count": null,
   "id": "5efa327a-a75d-4730-ae7a-624081fb35a1",
   "metadata": {},
   "outputs": [],
   "source": []
  },
  {
   "cell_type": "code",
   "execution_count": 22,
   "id": "56feecd2-69ce-43c2-abc7-e283f6551d19",
   "metadata": {},
   "outputs": [],
   "source": [
    "# FIX NULLVERDIER I NYE ENGINE VERDIER"
   ]
  },
  {
   "cell_type": "code",
   "execution_count": null,
   "id": "21529c02-2b87-4547-883f-8857460ef53b",
   "metadata": {},
   "outputs": [],
   "source": []
  },
  {
   "cell_type": "code",
   "execution_count": 23,
   "id": "457c6560-de55-4548-a875-9331353a9cb3",
   "metadata": {},
   "outputs": [],
   "source": [
    "train_data.horsepower = train_data.horsepower.fillna(0)\n",
    "train_data.engine_size = train_data.engine_size.fillna(0)\n",
    "train_data.cylinders = train_data.cylinders.fillna(0)"
   ]
  },
  {
   "cell_type": "code",
   "execution_count": 24,
   "id": "d6f8d07b-ef4f-4771-9871-f770f11475dc",
   "metadata": {},
   "outputs": [],
   "source": [
    "# Gjør om kategoriske verdier til numeriske og lagrer 'oversetteren' til senere bruk i gradio\n",
    "\n",
    "from sklearn.preprocessing import LabelEncoder\n",
    "\n",
    "label_cols = ['brand', 'model', 'fuel_type', 'transmission', 'ext_col', 'int_col']\n",
    "label_encoders = {col: LabelEncoder() for col in label_cols}\n",
    "\n",
    "for col in label_cols:\n",
    "    train_data[col] = label_encoders[col].fit_transform(train_data[col])"
   ]
  },
  {
   "cell_type": "code",
   "execution_count": null,
   "id": "d4dbe411-5c26-43ad-8361-d94bb42dbd73",
   "metadata": {},
   "outputs": [],
   "source": []
  },
  {
   "cell_type": "code",
   "execution_count": 25,
   "id": "dde6a294-bf1a-485d-90db-aaaf88bdac34",
   "metadata": {},
   "outputs": [],
   "source": [
    "# train_data.drop(columns=['id'], inplace=True)"
   ]
  },
  {
   "cell_type": "code",
   "execution_count": null,
   "id": "dd6cb058-ffa8-4a4d-add7-c0b7c5176c2b",
   "metadata": {},
   "outputs": [],
   "source": []
  },
  {
   "cell_type": "code",
   "execution_count": 26,
   "id": "382b3754-076e-4103-892c-e8ed82225d70",
   "metadata": {},
   "outputs": [],
   "source": [
    "X = train_data.drop(columns=['price'])\n",
    "y = train_data['price']"
   ]
  },
  {
   "cell_type": "code",
   "execution_count": null,
   "id": "e4f8edef-ee7f-4f4b-8d68-ac12ac572a87",
   "metadata": {},
   "outputs": [],
   "source": []
  },
  {
   "cell_type": "code",
   "execution_count": 28,
   "id": "ea345add-5999-4817-894b-962c73ff97ff",
   "metadata": {},
   "outputs": [
    {
     "name": "stdout",
     "output_type": "stream",
     "text": [
      "Fitting 5 folds for each of 32 candidates, totalling 160 fits\n",
      "Beste parametere:  {'alpha': 0.1, 'colsample_bytree': 0.6, 'gamma': 0, 'lambda': 0.1, 'learning_rate': 0.3, 'max_depth': 3, 'min_child_weight': 3, 'n_estimators': 100, 'subsample': 1.0}\n",
      "Beste RMSE:  26883.85034784067\n",
      "Training RMSE: 26696.59466573862\n"
     ]
    }
   ],
   "source": [
    "from sklearn.model_selection import GridSearchCV\n",
    "from sklearn.metrics import mean_squared_error\n",
    "import xgboost as xgb\n",
    "\n",
    "\n",
    "\n",
    "\n",
    "xg_reg = xgb.XGBRegressor(objective='reg:squarederror')\n",
    "\n",
    "parametere = {\n",
    "    'n_estimators': [100],\n",
    "    'max_depth': [2, 3],\n",
    "    'learning_rate': [0.2, 0.3],\n",
    "    'subsample': [1.0],\n",
    "    'colsample_bytree': [0.6, 0.8],\n",
    "    'min_child_weight': [3],\n",
    "    'gamma': [0],\n",
    "    'lambda': [0.1, 0.2],\n",
    "    'alpha': [0.1, 0.2]\n",
    "}\n",
    "\n",
    "\n",
    "\n",
    "grid_search = GridSearchCV(estimator=xg_reg, param_grid=parametere, scoring='neg_root_mean_squared_error', cv=5, verbose=1)\n",
    "\n",
    "\n",
    "grid_search.fit(X, y)\n",
    "\n",
    "\n",
    "print(\"Beste parametere: \", grid_search.best_params_)\n",
    "print(\"Beste RMSE: \", -grid_search.best_score_)\n",
    "\n",
    "\n",
    "best_xg_reg = grid_search.best_estimator_\n",
    "best_xg_reg.fit(X, y)\n",
    "\n",
    "y_pred_train = best_xg_reg.predict(X)  \n",
    "\n",
    "rmse_train = np.sqrt(mean_squared_error(y, y_pred_train))\n",
    "\n",
    "print(f\"Training RMSE: {rmse_train}\")"
   ]
  },
  {
   "cell_type": "code",
   "execution_count": null,
   "id": "7d456c05-f6e2-4166-8b57-44076735e391",
   "metadata": {},
   "outputs": [],
   "source": []
  },
  {
   "cell_type": "code",
   "execution_count": 30,
   "id": "c13c6690-b96d-4b40-8e8b-24b63006ce69",
   "metadata": {},
   "outputs": [],
   "source": [
    "# function for sorting categories from most prevelent to least\n",
    "\n",
    "def sort_category(cat):\n",
    "    count_cat = gr_data[cat].value_counts()\n",
    "    sorted_cat = list(count_cat.index)\n",
    "    return sorted_cat"
   ]
  },
  {
   "cell_type": "code",
   "execution_count": null,
   "id": "81935402-5a26-43ac-b76a-c43f090a0546",
   "metadata": {},
   "outputs": [],
   "source": []
  },
  {
   "cell_type": "code",
   "execution_count": 33,
   "id": "ce6d1806-8d14-49db-9448-076131aebdd4",
   "metadata": {},
   "outputs": [],
   "source": [
    "sorted_brand = sort_category('brand')\n",
    "sorted_model = sort_category('model')\n",
    "sorted_fuel_type = sort_category('fuel_type')\n",
    "sorted_transmission = sort_category('transmission')\n",
    "sorted_ext_col = sort_category('ext_col')\n",
    "sorted_int_col= sort_category('int_col')"
   ]
  },
  {
   "cell_type": "code",
   "execution_count": null,
   "id": "da46e5a0-fba7-4ec1-8ecb-7bc7605c4ce4",
   "metadata": {},
   "outputs": [],
   "source": []
  },
  {
   "cell_type": "code",
   "execution_count": 36,
   "id": "17d4fb15-5a76-4c7f-bbc2-77a59b0865a8",
   "metadata": {},
   "outputs": [],
   "source": [
    "# demo.close()"
   ]
  },
  {
   "cell_type": "code",
   "execution_count": 38,
   "id": "09c78100-bed6-4b0a-8f1d-605a4ea32d02",
   "metadata": {},
   "outputs": [
    {
     "name": "stdout",
     "output_type": "stream",
     "text": [
      "* Running on local URL:  http://127.0.0.1:7860\n",
      "\n",
      "To create a public link, set `share=True` in `launch()`.\n"
     ]
    },
    {
     "data": {
      "text/html": [
       "<div><iframe src=\"http://127.0.0.1:7860/\" width=\"100%\" height=\"500\" allow=\"autoplay; camera; microphone; clipboard-read; clipboard-write;\" frameborder=\"0\" allowfullscreen></iframe></div>"
      ],
      "text/plain": [
       "<IPython.core.display.HTML object>"
      ]
     },
     "metadata": {},
     "output_type": "display_data"
    }
   ],
   "source": [
    "import gradio as gr\n",
    "\n",
    "\n",
    "def car_builder(brand, model, model_year, mileage, fuel_type, transmission, ext_col, int_col, accident, clean_title, horsepower, engine_size, cylinders):\n",
    "    dict_new = {\n",
    "    #'id': [0],\n",
    "    'brand': [label_encoders['brand'].transform([brand])[0]],\n",
    "    'model': [label_encoders['model'].transform([model])[0]],\n",
    "    'model_year': [model_year],\n",
    "    'milage': [mileage],\n",
    "    'fuel_type': [label_encoders['fuel_type'].transform([fuel_type])[0]],\n",
    "    'transmission': [label_encoders['transmission'].transform([transmission])[0]],\n",
    "    'ext_col': [label_encoders['ext_col'].transform([ext_col])[0]],\n",
    "    'int_col': [label_encoders['int_col'].transform([int_col])[0]],\n",
    "    'accident': [accident],\n",
    "    'clean_title': [clean_title],\n",
    "    'horsepower': [horsepower],\n",
    "    'engine_size': [engine_size],\n",
    "    'cylinders': [cylinders]\n",
    "    \n",
    "}\n",
    "    bongo = pd.DataFrame(dict_new)\n",
    "    \n",
    "    price_pred = best_xg_reg.predict(bongo)[0].astype(int)\n",
    "    \n",
    "    return f\"\"\"Bilen din har en estimert verdi på {price_pred} USD $\"\"\"\n",
    "demo = gr.Interface(\n",
    "    car_builder,\n",
    "    [\n",
    "        gr.Dropdown(choices=sorted_brand, value=sorted_brand[0]),\n",
    "        gr.Dropdown(choices=sorted_model, value=sorted_model[0]),\n",
    "        gr.Number(value=2024, label=\"Model Year\"),\n",
    "        gr.Slider(0, 500000, value=0, label=\"Mileage\"),\n",
    "        gr.Dropdown(choices=sorted_fuel_type, label=\"Fuel type\", value=sorted_fuel_type[0]),\n",
    "        gr.Dropdown(choices=sorted_transmission, label=\"Transmission\", value=sorted_transmission[0]),\n",
    "        \n",
    "        gr.Dropdown(choices=sorted_ext_col, label=\"External color\", value=sorted_ext_col[0]),\n",
    "        gr.Dropdown(choices=sorted_int_col, label=\"Internal color\", value=sorted_int_col[0]),\n",
    "        gr.Radio([(\"No\", 0), (\"Yes\", 1)], label=\"Accident\", info=\"Has your car been in an accident?\", value=0),\n",
    "        gr.Radio([(\"Yes\", 1), (\"No\", 0)], label=\"Clean Title\", info=\"Does your car have a clean title?\", value=1),\n",
    "        gr.Number(label=\"Horsepower\", value=0),\n",
    "        gr.Number(label=\"Engine Size (Liters)\", value=0),\n",
    "        gr.Number(label=\"Number of cylinders\", value=0),\n",
    "    ],\n",
    "    \"text\",\n",
    "\n",
    "   \n",
    ")\n",
    "  \n",
    "if __name__ == \"__main__\":\n",
    "    demo.launch()\n",
    "\n",
    "\t\t"
   ]
  },
  {
   "cell_type": "code",
   "execution_count": null,
   "id": "9e5b5861-b62f-42cb-a481-d499731a339d",
   "metadata": {},
   "outputs": [],
   "source": [
    "# demo.close()"
   ]
  }
 ],
 "metadata": {
  "kernelspec": {
   "display_name": "venv",
   "language": "python",
   "name": "venv"
  },
  "language_info": {
   "codemirror_mode": {
    "name": "ipython",
    "version": 3
   },
   "file_extension": ".py",
   "mimetype": "text/x-python",
   "name": "python",
   "nbconvert_exporter": "python",
   "pygments_lexer": "ipython3",
   "version": "3.12.4"
  }
 },
 "nbformat": 4,
 "nbformat_minor": 5
}
